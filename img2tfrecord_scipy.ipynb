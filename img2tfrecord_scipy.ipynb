{
 "cells": [
  {
   "cell_type": "code",
   "execution_count": 1,
   "metadata": {},
   "outputs": [
    {
     "name": "stderr",
     "output_type": "stream",
     "text": [
      "C:\\Users\\Nakyilkim\\Anaconda3\\lib\\site-packages\\h5py\\__init__.py:36: FutureWarning: Conversion of the second argument of issubdtype from `float` to `np.floating` is deprecated. In future, it will be treated as `np.float64 == np.dtype(float).type`.\n",
      "  from ._conv import register_converters as _register_converters\n",
      "Using TensorFlow backend.\n"
     ]
    }
   ],
   "source": [
    "### img -> tf record withot pickling\n",
    "\n",
    "import nibabel as nib\n",
    "import numpy as np\n",
    "import matplotlib.pyplot as plt\n",
    "import os\n",
    "\n",
    "from keras.utils import to_categorical\n",
    "from sklearn import preprocessing\n",
    "\n",
    "from PIL import Image\n",
    "import itertools\n",
    "from tqdm import tqdm\n",
    "\n",
    "import numpy as np\n",
    "import skimage.io as io\n",
    "import tensorflow as tf\n",
    "\n",
    "from tqdm import tqdm\n",
    "from dltk.io.preprocessing import *\n",
    "import scipy.ndimage\n",
    "\n",
    "\n",
    "import pickle\n",
    "\n",
    "root = 'D:\\segmentiation/'\n",
    "ct_set = os.path.join(root,'ct_train_test/ct_train/')\n",
    "mr_set = os.path.join(root,'mr_train_test/mr_train/')\n",
    "filenames = os.listdir(ct_set)\n",
    "\n"
   ]
  },
  {
   "cell_type": "code",
   "execution_count": 2,
   "metadata": {},
   "outputs": [],
   "source": [
    "def pickle_iter(path):\n",
    "    f = open(path, 'rb')\n",
    "    unpickler = pickle.Unpickler(f)\n",
    "    try:\n",
    "        for i in range(9999999999):\n",
    "            yield unpickler.load()\n",
    "    except:\n",
    "        f.close()\n",
    "        print('pickle generator created')\n",
    "\n",
    "        \n",
    "def pad3d(array):\n",
    "    height = array.shape[0]\n",
    "    depth = array.shape[2]\n",
    "    \n",
    "    if (height - depth) % 2 :\n",
    "        pad_front = int((height + 1 - depth) / 2)\n",
    "        pad_back = int((height - 1 - depth) / 2)\n",
    "    else:\n",
    "        pad_front = pad_back = int((height - depth) / 2)\n",
    "    \n",
    "    npad = ((0,0),(0,0),(pad_front,pad_back))\n",
    "    array_padding = np.pad(array, npad, 'constant', constant_values=(0))\n",
    "    array_padding[array_padding<0] = 0\n",
    "    \n",
    "    return array_padding\n",
    "\n",
    "\n",
    "def image_preprocess(image, new_size, mask=False):\n",
    "    assert np.sum(image.shape==image.shape[0])!=3    \n",
    "    \n",
    "    ratio = new_size / image.shape[0]\n",
    "    \n",
    "    image = scipy.ndimage.zoom(image, zoom=ratio, order=0)\n",
    "\n",
    "    if mask:\n",
    "        channel = 7 + 1 #background\n",
    "        image = image.reshape(-1)\n",
    "        image = label_encoder.fit_transform(image)\n",
    "        \n",
    "        \n",
    "        print(\"annotation shape\",image.shape)\n",
    "        print(\"unique value\", np.unique(image))\n",
    "        \n",
    "        \n",
    "        image = to_categorical(image, class_num)\n",
    "        print(\"processed mask shape\",image.shape)\n",
    "\n",
    "        \n",
    "    else:\n",
    "        channel = 1\n",
    "    # reshape to raw shape\n",
    "    image = image.reshape((new_size,)*3 + (channel,))\n",
    "    print(\"Reshaped shape\",image.shape)\n",
    "    \n",
    "    return image\n",
    "\n",
    "def nii_loader(path,file_name):\n",
    "    file_path =  os.path.join(path,file_name)\n",
    "    fn = os.listdir(file_path)\n",
    "    image = (nib.load(file_path + '/' + fn[0]))\n",
    "    return image\n",
    "\n",
    "\n",
    "def _bytes_feature(value):\n",
    "    return tf.train.Feature(bytes_list=tf.train.BytesList(value=[value]))\n",
    "\n",
    "\n",
    "def _int64_feature(value):\n",
    "    return tf.train.Feature(int64_list=tf.train.Int64List(value=[value]))\n",
    "\n",
    "def write_image_annotation_pairs_to_tfrecord_from_gen(generator, tfrecords_filename):\n",
    "    \"\"\"Writes given image/annotation pairs to the tfrecords file.\n",
    "    The function reads each image/anno'tation pair given filenames\n",
    "    of image and respective annotation and writes it to the tfrecord\n",
    "    file.\n",
    "    Parameters\n",
    "    ----------\n",
    "    filename_pairs : array of tuples (img_filepath, annotation_filepath)\n",
    "        Array of tuples of image/annotation filenames\n",
    "    tfrecords_filename : string\n",
    "        Tfrecords filename to write the image/annotation pairs\n",
    "    \"\"\"\n",
    "    options = tf.python_io.TFRecordOptions(tf.python_io.TFRecordCompressionType.GZIP)\n",
    "    writer = tf.python_io.TFRecordWriter(tfrecords_filename,options=options)\n",
    "    \n",
    "    print(\"Start writing tfrecord\")\n",
    "\n",
    "\n",
    "    #for img_path, annotation_path in filename_pairs:\n",
    "\n",
    "\n",
    "\n",
    "    for i, record in enumerate(generator):\n",
    "        print(i)\n",
    "\n",
    "\n",
    "\n",
    "        #img = np.array(Image.open(img_path))\n",
    "\n",
    "        #annotation = np.array(Image.open(annotation_path))\n",
    "\n",
    "        # Unomment this one when working with surgical data\n",
    "        # annotation = annotation[:, :, 0]\n",
    "\n",
    "        # The reason to store image sizes was demonstrated\n",
    "        # in the previous example -- we have to know sizes\n",
    "        # of images to later read raw serialized string,\n",
    "        \n",
    "        # convert to 1d array and convert to respective\n",
    "        # shape that image used to have.\n",
    "        #height = img.shape[0] \n",
    "    \n",
    "        img = record[0]\n",
    "        annotation = record[1]\n",
    "\n",
    "        height = img.shape[0] \n",
    "\n",
    "        #width = img.shape[1]\n",
    "        width = img.shape[1] \n",
    "\n",
    "\n",
    "        #add depth \n",
    "        depth = img.shape[2]\n",
    "        #print(depth)\n",
    "        #print(img[0].shape) #288,288,140 \n",
    "\n",
    "\n",
    "        #img_raw = img.tostring()\n",
    "        img_raw=img.tostring()\n",
    "\n",
    "        ## 여기서 에러\n",
    "        print(\"img shape: {}, img_raw shape: {}\".format(img.shape,len(img_raw)))\n",
    "\n",
    "        ## 여기서 에러\n",
    "        annotation_raw = annotation.tostring()\n",
    "        print(\"annotation_ shape: {}, annotation_raw shape: {}\".format(annotation.shape,len(annotation_raw)))\n",
    "\n",
    "        #print(annotation[1].shape)\n",
    "        #print(annotation[2].shape)\n",
    "\n",
    "\n",
    "        #print(annotation_raw)\n",
    "        #annotation_raw = annotation.tostring()\n",
    "\n",
    "        example = tf.train.Example(features=tf.train.Features(feature={\n",
    "            'height': _int64_feature(height),\n",
    "            'width': _int64_feature(width),\n",
    "            'depth': _int64_feature(depth), \n",
    "            'image_raw': _bytes_feature(img_raw),\n",
    "            'mask_raw': _bytes_feature(annotation_raw)}))\n",
    "\n",
    "        writer.write(example.SerializeToString())\n",
    "\n",
    "    writer.close()\n",
    "    \n",
    "def write_image_annotation_pairs_to_tfrecord_from_listitr(pickle_itr_list, tfrecords_filename):\n",
    "    \"\"\"Writes given image/annotation pairs to the tfrecords file.\n",
    "    The function reads each image/anno'tation pair given filenames\n",
    "    of image and respective annotation and writes it to the tfrecord\n",
    "    file.\n",
    "    Parameters\n",
    "    ----------\n",
    "    filename_pairs : array of tuples (img_filepath, annotation_filepath)\n",
    "        Array of tuples of image/annotation filenames\n",
    "    tfrecords_filename : string\n",
    "        Tfrecords filename to write the image/annotation pairs\n",
    "    \"\"\"\n",
    "    \n",
    "    print(\"Start writing tfrecord\")\n",
    "    options = tf.python_io.TFRecordOptions(tf.python_io.TFRecordCompressionType.GZIP)\n",
    "    writer = tf.python_io.TFRecordWriter(tfrecords_filename,options=options)\n",
    "\n",
    "    #for img_path, annotation_path in filename_pairs:\n",
    "    \n",
    "    \n",
    "    for pickle_itr in pickle_itr_list:\n",
    "\n",
    "        for i,record in enumerate(pickle_itr):\n",
    "            print(i)\n",
    "            print(record.keys())\n",
    "\n",
    "            img = record['image']\n",
    "            annotation = record['label']\n",
    "\n",
    "            #img = np.array(Image.open(img_path))\n",
    "\n",
    "            #annotation = np.array(Image.open(annotation_path))\n",
    "\n",
    "            # Unomment this one when working with surgical data\n",
    "            # annotation = annotation[:, :, 0]\n",
    "\n",
    "            # The reason to store image sizes was demonstrated\n",
    "            # in the previous example -- we have to know sizes\n",
    "            # of images to later read raw serialized string,\n",
    "            # convert to 1d array and convert to respective\n",
    "            # shape that image used to have.\n",
    "            #height = img.shape[0] \n",
    "\n",
    "            print(img.shape)\n",
    "            ##### img = img.reshape()\n",
    "            \n",
    "            \n",
    "            height = img.shape[0] \n",
    "\n",
    "            #width = img.shape[1]\n",
    "            width = img.shape[1] \n",
    "\n",
    "\n",
    "            #add depth \n",
    "            depth = img.shape[2]\n",
    "            #print(depth)\n",
    "            #print(img[0].shape) #288,288,140 \n",
    "\n",
    "\n",
    "            #img_raw = img.tostring()\n",
    "            img_raw=img.tostring()\n",
    "\n",
    "            ## 여기서 에러\n",
    "            print(\"img shape: {}, img_raw shape: {}\".format(img.shape,len(img_raw)))\n",
    "\n",
    "            ## 여기서 에러\n",
    "            annotation_raw = annotation.tostring()\n",
    "            print(\"annotation_ shape: {}, annotation_raw shape: {}\".format(annotation.shape,len(annotation_raw)))\n",
    "\n",
    "            #print(annotation[1].shape)\n",
    "            #print(annotation[2].shape)\n",
    "\n",
    "\n",
    "            #print(annotation_raw)\n",
    "            #annotation_raw = annotation.tostring()\n",
    "\n",
    "            example = tf.train.Example(features=tf.train.Features(feature={\n",
    "                'height': _int64_feature(height),\n",
    "                'width': _int64_feature(width),\n",
    "                'depth': _int64_feature(depth), \n",
    "                'image_raw': _bytes_feature(img_raw),\n",
    "                'mask_raw': _bytes_feature(annotation_raw)}))\n",
    "\n",
    "            writer.write(example.SerializeToString())\n",
    "\n",
    "    writer.close()\n",
    "    \n",
    "def read_image_annotation_pairs_from_tfrecord_itr_from_compressed(tfrecords_filename):\n",
    "    \"\"\"Return image/annotation pairs from the tfrecords file.\n",
    "    The function reads the tfrecords file and returns image\n",
    "    and respective annotation matrices pairs.\n",
    "    Parameters\n",
    "    ----------\n",
    "    tfrecords_filename : string\n",
    "        filename of .tfrecords file to read from\n",
    "    \n",
    "    Returns\n",
    "    -------\n",
    "    image_annotation_pairs : array of tuples (img, annotation)\n",
    "        The image and annotation that were read from the file\n",
    "    \"\"\"\n",
    "    image_annotation_pairs = []\n",
    "    \n",
    "    ## option...\n",
    "    options = tf.python_io.TFRecordOptions(tf.python_io.TFRecordCompressionType.GZIP)\n",
    "\n",
    "    record_iterator = tf.python_io.tf_record_iterator(path=tfrecords_filename,options=options)\n",
    "\n",
    "    for string_record in record_iterator:\n",
    "\n",
    "        example = tf.train.Example()\n",
    "        example.ParseFromString(string_record)\n",
    "\n",
    "        height = int(example.features.feature['height']\n",
    "                                     .int64_list\n",
    "                                     .value[0])\n",
    "\n",
    "        width = int(example.features.feature['width']\n",
    "                                    .int64_list\n",
    "                                    .value[0])\n",
    "        \n",
    "        depth = int(example.features.feature['depth']\n",
    "                                    .int64_list\n",
    "                                    .value[0])\n",
    "\n",
    "        img_string = (example.features.feature['image_raw']\n",
    "                                      .bytes_list\n",
    "                                      .value[0])\n",
    "        \n",
    "\n",
    "        annotation_string = (example.features.feature['mask_raw']\n",
    "                                    .bytes_list\n",
    "                                    .value[0])\n",
    "        \n",
    "        # img_1d = np.fromstring(img_string, dtype=np.uint8)\n",
    "        img_1d = np.fromstring(img_string)\n",
    "                               \n",
    "        print(\"img_string shape\",img_1d.shape)\n",
    "        print(\"image :  {}, annotation length : {}\".format(len(img_string),len(annotation_string)))\n",
    "\n",
    "        #        img = img_1d.reshape((height, width, depth, -1))\n",
    "\n",
    "        img = img_1d.reshape((height, width, depth,1))\n",
    "\n",
    "        annotation_1d = np.fromstring(annotation_string, dtype=np.float32)\n",
    "#        annotation_1d = np.fromstring(annotation_string)\n",
    "\n",
    "        # Annotations don't have depth (3rd dimension)\n",
    "        # TODO: check if it works for other datasets\n",
    "        #  annotation = annotation_1d.reshape((height, width, depth,-1))\n",
    "\n",
    "        annotation = annotation_1d.reshape((height, width, depth, 8))\n",
    "        \n",
    "        yield img, annotation"
   ]
  },
  {
   "cell_type": "code",
   "execution_count": 3,
   "metadata": {},
   "outputs": [],
   "source": [
    "def pre_process_tfrecord_write_itr(path,itr,new_size):\n",
    "    for record in tqdm(itr):\n",
    "        file_name = record['name']\n",
    "        img_fname = record['image']\n",
    "        label_fname = record['label']\n",
    "        \n",
    "        img = nii_loader(path,img_fname)\n",
    "        lab = nii_loader(path, label_fname)\n",
    "        \n",
    "        print(\"loaded Image Shape\",img.get_data().shape,)\n",
    "        \n",
    "        img = pad3d(img.get_data())\n",
    "        img = image_preprocess(img,new_size=new_size)\n",
    "        \n",
    "        lab = pad3d(lab.get_data())\n",
    "        lab = image_preprocess(lab,new_size=new_size,mask=True)\n",
    "        \n",
    "        print(\"Mask shape when preproceesing ends\",lab.shape)\n",
    "        \n",
    "        yield img, lab\n",
    "\n",
    "        \n"
   ]
  },
  {
   "cell_type": "markdown",
   "metadata": {},
   "source": [
    "## TF record Encoding"
   ]
  },
  {
   "cell_type": "code",
   "execution_count": 11,
   "metadata": {
    "scrolled": false
   },
   "outputs": [
    {
     "name": "stdout",
     "output_type": "stream",
     "text": [
      "starting gen\n",
      "write tfrecord\n",
      "Start writing tfrecord\n"
     ]
    },
    {
     "name": "stderr",
     "output_type": "stream",
     "text": [
      "\r",
      "  0%|                                                                                           | 0/20 [00:00<?, ?it/s]"
     ]
    },
    {
     "name": "stdout",
     "output_type": "stream",
     "text": [
      "loaded Image Shape (512, 512, 363)\n",
      "Reshaped shape (256, 256, 256, 1)\n",
      "annotation shape (16777216,)\n",
      "unique value [0 1 2 3 4 5 6 7]\n",
      "processed mask shape (16777216, 8)\n",
      "Reshaped shape (256, 256, 256, 8)\n",
      "Mask shape when preproceesing ends (256, 256, 256, 8)\n",
      "0\n",
      "img shape: (256, 256, 256, 1), img_raw shape: 134217728\n",
      "annotation_ shape: (256, 256, 256, 8), annotation_raw shape: 536870912\n"
     ]
    },
    {
     "name": "stderr",
     "output_type": "stream",
     "text": [
      "\r",
      "  5%|████▏                                                                              | 1/20 [00:35<11:15, 35.56s/it]"
     ]
    },
    {
     "name": "stdout",
     "output_type": "stream",
     "text": [
      "loaded Image Shape (512, 512, 239)\n",
      "Reshaped shape (256, 256, 256, 1)\n",
      "annotation shape (16777216,)\n",
      "unique value [0 1 2 3 4 5 6 7]\n",
      "processed mask shape (16777216, 8)\n",
      "Reshaped shape (256, 256, 256, 8)\n",
      "Mask shape when preproceesing ends (256, 256, 256, 8)\n",
      "1\n",
      "img shape: (256, 256, 256, 1), img_raw shape: 134217728\n",
      "annotation_ shape: (256, 256, 256, 8), annotation_raw shape: 536870912\n"
     ]
    },
    {
     "name": "stderr",
     "output_type": "stream",
     "text": [
      "\r",
      " 10%|████████▎                                                                          | 2/20 [01:08<10:27, 34.86s/it]"
     ]
    },
    {
     "name": "stdout",
     "output_type": "stream",
     "text": [
      "loaded Image Shape (512, 512, 298)\n",
      "Reshaped shape (256, 256, 256, 1)\n",
      "annotation shape (16777216,)\n",
      "unique value [0 1 2 3 4 5 6 7]\n",
      "processed mask shape (16777216, 8)\n",
      "Reshaped shape (256, 256, 256, 8)\n",
      "Mask shape when preproceesing ends (256, 256, 256, 8)\n",
      "2\n",
      "img shape: (256, 256, 256, 1), img_raw shape: 134217728\n",
      "annotation_ shape: (256, 256, 256, 8), annotation_raw shape: 536870912\n"
     ]
    },
    {
     "name": "stderr",
     "output_type": "stream",
     "text": [
      "\r",
      " 15%|████████████▍                                                                      | 3/20 [01:43<09:54, 34.95s/it]"
     ]
    },
    {
     "name": "stdout",
     "output_type": "stream",
     "text": [
      "loaded Image Shape (512, 512, 200)\n",
      "Reshaped shape (256, 256, 256, 1)\n",
      "annotation shape (16777216,)\n",
      "unique value [0 1 2 3 4 5 6 7]\n",
      "processed mask shape (16777216, 8)\n",
      "Reshaped shape (256, 256, 256, 8)\n",
      "Mask shape when preproceesing ends (256, 256, 256, 8)\n",
      "3\n",
      "img shape: (256, 256, 256, 1), img_raw shape: 134217728\n",
      "annotation_ shape: (256, 256, 256, 8), annotation_raw shape: 536870912\n"
     ]
    },
    {
     "name": "stderr",
     "output_type": "stream",
     "text": [
      "\r",
      " 20%|████████████████▌                                                                  | 4/20 [02:15<09:02, 33.91s/it]"
     ]
    },
    {
     "name": "stdout",
     "output_type": "stream",
     "text": [
      "loaded Image Shape (512, 512, 177)\n",
      "Reshaped shape (256, 256, 256, 1)\n",
      "annotation shape (16777216,)\n",
      "unique value [0 1 2 3 4 5 6 7]\n",
      "processed mask shape (16777216, 8)\n",
      "Reshaped shape (256, 256, 256, 8)\n",
      "Mask shape when preproceesing ends (256, 256, 256, 8)\n",
      "4\n",
      "img shape: (256, 256, 256, 1), img_raw shape: 134217728\n",
      "annotation_ shape: (256, 256, 256, 8), annotation_raw shape: 536870912\n"
     ]
    },
    {
     "name": "stderr",
     "output_type": "stream",
     "text": [
      "\r",
      " 25%|████████████████████▊                                                              | 5/20 [02:44<08:06, 32.40s/it]"
     ]
    },
    {
     "name": "stdout",
     "output_type": "stream",
     "text": [
      "loaded Image Shape (512, 512, 248)\n",
      "Reshaped shape (256, 256, 256, 1)\n",
      "annotation shape (16777216,)\n",
      "unique value [0 1 2 3 4 5 6 7]\n",
      "processed mask shape (16777216, 8)\n",
      "Reshaped shape (256, 256, 256, 8)\n",
      "Mask shape when preproceesing ends (256, 256, 256, 8)\n",
      "5\n",
      "img shape: (256, 256, 256, 1), img_raw shape: 134217728\n",
      "annotation_ shape: (256, 256, 256, 8), annotation_raw shape: 536870912\n"
     ]
    },
    {
     "name": "stderr",
     "output_type": "stream",
     "text": [
      "\r",
      " 30%|████████████████████████▉                                                          | 6/20 [03:16<07:33, 32.36s/it]"
     ]
    },
    {
     "name": "stdout",
     "output_type": "stream",
     "text": [
      "loaded Image Shape (512, 512, 243)\n",
      "Reshaped shape (256, 256, 256, 1)\n",
      "annotation shape (16777216,)\n",
      "unique value [0 1 2 3 4 5 6 7]\n",
      "processed mask shape (16777216, 8)\n",
      "Reshaped shape (256, 256, 256, 8)\n",
      "Mask shape when preproceesing ends (256, 256, 256, 8)\n",
      "6\n",
      "img shape: (256, 256, 256, 1), img_raw shape: 134217728\n",
      "annotation_ shape: (256, 256, 256, 8), annotation_raw shape: 536870912\n"
     ]
    },
    {
     "name": "stderr",
     "output_type": "stream",
     "text": [
      "\r",
      " 35%|█████████████████████████████                                                      | 7/20 [03:51<07:10, 33.08s/it]"
     ]
    },
    {
     "name": "stdout",
     "output_type": "stream",
     "text": [
      "loaded Image Shape (512, 512, 222)\n",
      "Reshaped shape (256, 256, 256, 1)\n",
      "annotation shape (16777216,)\n",
      "unique value [0 1 2 3 4 5 6 7]\n",
      "processed mask shape (16777216, 8)\n",
      "Reshaped shape (256, 256, 256, 8)\n",
      "Mask shape when preproceesing ends (256, 256, 256, 8)\n",
      "7\n",
      "img shape: (256, 256, 256, 1), img_raw shape: 134217728\n",
      "annotation_ shape: (256, 256, 256, 8), annotation_raw shape: 536870912\n"
     ]
    },
    {
     "name": "stderr",
     "output_type": "stream",
     "text": [
      "\r",
      " 40%|█████████████████████████████████▏                                                 | 8/20 [04:22<06:31, 32.60s/it]"
     ]
    },
    {
     "name": "stdout",
     "output_type": "stream",
     "text": [
      "loaded Image Shape (512, 512, 293)\n",
      "Reshaped shape (256, 256, 256, 1)\n",
      "annotation shape (16777216,)\n",
      "unique value [0 1 2 3 4 5 6 7]\n",
      "processed mask shape (16777216, 8)\n",
      "Reshaped shape (256, 256, 256, 8)\n",
      "Mask shape when preproceesing ends (256, 256, 256, 8)\n",
      "8\n",
      "img shape: (256, 256, 256, 1), img_raw shape: 134217728\n",
      "annotation_ shape: (256, 256, 256, 8), annotation_raw shape: 536870912\n"
     ]
    },
    {
     "name": "stderr",
     "output_type": "stream",
     "text": [
      "\r",
      " 45%|█████████████████████████████████████▎                                             | 9/20 [05:01<06:17, 34.28s/it]"
     ]
    },
    {
     "name": "stdout",
     "output_type": "stream",
     "text": [
      "loaded Image Shape (512, 512, 274)\n",
      "Reshaped shape (256, 256, 256, 1)\n",
      "annotation shape (16777216,)\n",
      "unique value [0 1 2 3 4 5 6 7]\n",
      "processed mask shape (16777216, 8)\n",
      "Reshaped shape (256, 256, 256, 8)\n",
      "Mask shape when preproceesing ends (256, 256, 256, 8)\n",
      "9\n",
      "img shape: (256, 256, 256, 1), img_raw shape: 134217728\n",
      "annotation_ shape: (256, 256, 256, 8), annotation_raw shape: 536870912\n"
     ]
    },
    {
     "name": "stderr",
     "output_type": "stream",
     "text": [
      "\r",
      " 50%|█████████████████████████████████████████                                         | 10/20 [05:35<05:44, 34.47s/it]"
     ]
    },
    {
     "name": "stdout",
     "output_type": "stream",
     "text": [
      "loaded Image Shape (512, 512, 239)\n",
      "Reshaped shape (256, 256, 256, 1)\n",
      "annotation shape (16777216,)\n",
      "unique value [0 1 2 3 4 5 6 7]\n",
      "processed mask shape (16777216, 8)\n",
      "Reshaped shape (256, 256, 256, 8)\n",
      "Mask shape when preproceesing ends (256, 256, 256, 8)\n",
      "10\n",
      "img shape: (256, 256, 256, 1), img_raw shape: 134217728\n",
      "annotation_ shape: (256, 256, 256, 8), annotation_raw shape: 536870912\n"
     ]
    },
    {
     "name": "stderr",
     "output_type": "stream",
     "text": [
      "\r",
      " 55%|█████████████████████████████████████████████                                     | 11/20 [06:11<05:11, 34.65s/it]"
     ]
    },
    {
     "name": "stdout",
     "output_type": "stream",
     "text": [
      "loaded Image Shape (512, 512, 177)\n",
      "Reshaped shape (256, 256, 256, 1)\n",
      "annotation shape (16777216,)\n",
      "unique value [0 1 2 3 4 5 6 7]\n",
      "processed mask shape (16777216, 8)\n",
      "Reshaped shape (256, 256, 256, 8)\n",
      "Mask shape when preproceesing ends (256, 256, 256, 8)\n",
      "11\n",
      "img shape: (256, 256, 256, 1), img_raw shape: 134217728\n",
      "annotation_ shape: (256, 256, 256, 8), annotation_raw shape: 536870912\n"
     ]
    },
    {
     "name": "stderr",
     "output_type": "stream",
     "text": [
      "\r",
      " 60%|█████████████████████████████████████████████████▏                                | 12/20 [06:39<04:22, 32.79s/it]"
     ]
    },
    {
     "name": "stdout",
     "output_type": "stream",
     "text": [
      "loaded Image Shape (512, 512, 211)\n",
      "Reshaped shape (256, 256, 256, 1)\n",
      "annotation shape (16777216,)\n",
      "unique value [0 1 2 3 4 5 6 7]\n",
      "processed mask shape (16777216, 8)\n",
      "Reshaped shape (256, 256, 256, 8)\n",
      "Mask shape when preproceesing ends (256, 256, 256, 8)\n",
      "12\n",
      "img shape: (256, 256, 256, 1), img_raw shape: 134217728\n",
      "annotation_ shape: (256, 256, 256, 8), annotation_raw shape: 536870912\n"
     ]
    },
    {
     "name": "stderr",
     "output_type": "stream",
     "text": [
      "\r",
      " 65%|█████████████████████████████████████████████████████▎                            | 13/20 [07:09<03:44, 32.11s/it]"
     ]
    },
    {
     "name": "stdout",
     "output_type": "stream",
     "text": [
      "loaded Image Shape (512, 512, 358)\n",
      "Reshaped shape (256, 256, 256, 1)\n",
      "annotation shape (16777216,)\n",
      "unique value [0 1 2 3 4 5 6 7]\n",
      "processed mask shape (16777216, 8)\n",
      "Reshaped shape (256, 256, 256, 8)\n",
      "Mask shape when preproceesing ends (256, 256, 256, 8)\n",
      "13\n",
      "img shape: (256, 256, 256, 1), img_raw shape: 134217728\n",
      "annotation_ shape: (256, 256, 256, 8), annotation_raw shape: 536870912\n"
     ]
    },
    {
     "name": "stderr",
     "output_type": "stream",
     "text": [
      "\r",
      " 70%|█████████████████████████████████████████████████████████▍                        | 14/20 [07:52<03:30, 35.09s/it]"
     ]
    },
    {
     "name": "stdout",
     "output_type": "stream",
     "text": [
      "loaded Image Shape (512, 512, 300)\n",
      "Reshaped shape (256, 256, 256, 1)\n",
      "annotation shape (16777216,)\n",
      "unique value [0 1 2 3 4 5 6 7]\n",
      "processed mask shape (16777216, 8)\n",
      "Reshaped shape (256, 256, 256, 8)\n",
      "Mask shape when preproceesing ends (256, 256, 256, 8)\n",
      "14\n",
      "img shape: (256, 256, 256, 1), img_raw shape: 134217728\n",
      "annotation_ shape: (256, 256, 256, 8), annotation_raw shape: 536870912\n"
     ]
    },
    {
     "name": "stderr",
     "output_type": "stream",
     "text": [
      "\r",
      " 75%|█████████████████████████████████████████████████████████████▌                    | 15/20 [08:27<02:56, 35.33s/it]"
     ]
    },
    {
     "name": "stdout",
     "output_type": "stream",
     "text": [
      "loaded Image Shape (512, 512, 333)\n",
      "Reshaped shape (256, 256, 256, 1)\n",
      "annotation shape (16777216,)\n",
      "unique value [0 1 2 3 4 5 6 7]\n",
      "processed mask shape (16777216, 8)\n",
      "Reshaped shape (256, 256, 256, 8)\n",
      "Mask shape when preproceesing ends (256, 256, 256, 8)\n",
      "15\n",
      "img shape: (256, 256, 256, 1), img_raw shape: 134217728\n",
      "annotation_ shape: (256, 256, 256, 8), annotation_raw shape: 536870912\n"
     ]
    },
    {
     "name": "stderr",
     "output_type": "stream",
     "text": [
      "\r",
      " 80%|█████████████████████████████████████████████████████████████████▌                | 16/20 [09:06<02:25, 36.35s/it]"
     ]
    },
    {
     "name": "stdout",
     "output_type": "stream",
     "text": [
      "loaded Image Shape (512, 512, 283)\n",
      "Reshaped shape (256, 256, 256, 1)\n",
      "annotation shape (16777216,)\n",
      "unique value [0 1 2 3 4 5 6 7]\n",
      "processed mask shape (16777216, 8)\n",
      "Reshaped shape (256, 256, 256, 8)\n",
      "Mask shape when preproceesing ends (256, 256, 256, 8)\n",
      "16\n",
      "img shape: (256, 256, 256, 1), img_raw shape: 134217728\n",
      "annotation_ shape: (256, 256, 256, 8), annotation_raw shape: 536870912\n"
     ]
    },
    {
     "name": "stderr",
     "output_type": "stream",
     "text": [
      "\r",
      " 85%|█████████████████████████████████████████████████████████████████████▋            | 17/20 [09:40<01:46, 35.59s/it]"
     ]
    },
    {
     "name": "stdout",
     "output_type": "stream",
     "text": [
      "loaded Image Shape (512, 512, 187)\n",
      "Reshaped shape (256, 256, 256, 1)\n",
      "annotation shape (16777216,)\n",
      "unique value [0 1 2 3 4 5 6 7]\n",
      "processed mask shape (16777216, 8)\n",
      "Reshaped shape (256, 256, 256, 8)\n",
      "Mask shape when preproceesing ends (256, 256, 256, 8)\n",
      "17\n",
      "img shape: (256, 256, 256, 1), img_raw shape: 134217728\n",
      "annotation_ shape: (256, 256, 256, 8), annotation_raw shape: 536870912\n"
     ]
    },
    {
     "name": "stderr",
     "output_type": "stream",
     "text": [
      "\r",
      " 90%|█████████████████████████████████████████████████████████████████████████▊        | 18/20 [10:10<01:08, 34.03s/it]"
     ]
    },
    {
     "name": "stdout",
     "output_type": "stream",
     "text": [
      "loaded Image Shape (512, 512, 297)\n",
      "Reshaped shape (256, 256, 256, 1)\n",
      "annotation shape (16777216,)\n",
      "unique value [0 1 2 3 4 5 6 7]\n",
      "processed mask shape (16777216, 8)\n",
      "Reshaped shape (256, 256, 256, 8)\n",
      "Mask shape when preproceesing ends (256, 256, 256, 8)\n",
      "18\n",
      "img shape: (256, 256, 256, 1), img_raw shape: 134217728\n",
      "annotation_ shape: (256, 256, 256, 8), annotation_raw shape: 536870912\n"
     ]
    },
    {
     "name": "stderr",
     "output_type": "stream",
     "text": [
      "\r",
      " 95%|█████████████████████████████████████████████████████████████████████████████▉    | 19/20 [10:45<00:34, 34.27s/it]"
     ]
    },
    {
     "name": "stdout",
     "output_type": "stream",
     "text": [
      "loaded Image Shape (512, 512, 363)\n",
      "Reshaped shape (256, 256, 256, 1)\n",
      "annotation shape (16777216,)\n",
      "unique value [0 1 2 3 4 5 6 7]\n",
      "processed mask shape (16777216, 8)\n",
      "Reshaped shape (256, 256, 256, 8)\n",
      "Mask shape when preproceesing ends (256, 256, 256, 8)\n",
      "19\n",
      "img shape: (256, 256, 256, 1), img_raw shape: 134217728\n",
      "annotation_ shape: (256, 256, 256, 8), annotation_raw shape: 536870912\n"
     ]
    },
    {
     "name": "stderr",
     "output_type": "stream",
     "text": [
      "100%|██████████████████████████████████████████████████████████████████████████████████| 20/20 [11:27<00:00, 36.43s/it]\n"
     ]
    }
   ],
   "source": [
    "## Pickling 안하면 메모리 에러 ;;\n",
    "## 성능 좋으면 여기만 돌리면 됨\n",
    "\n",
    "\n",
    "ct_set = os.path.join(root,'ct_train_test/ct_train/')\n",
    "ct_set_test = os.path.join(root,'ct_train_test/ct_test/')\n",
    "mr_set = os.path.join(root,'mr_train_test/mr_train/')\n",
    "mr_set_test =  os.path.join(root,'ct_train_test/mr_test/')\n",
    "\n",
    "## 여기 바꾸면서 ct, mr 파일 만들기\n",
    "temp_path = ct_set\n",
    "\n",
    "name_list = []\n",
    "filenames = os.listdir(temp_path)\n",
    "\n",
    "for i in filenames:\n",
    "    if i[:13] not in name_list:\n",
    "        name_list.append(i[:13])\n",
    "        \n",
    "total_list = []\n",
    "for i in name_list:\n",
    "    temp_name = i\n",
    "    temp_image = i+'_image.nii'\n",
    "    temp_label = i+'_label.nii'\n",
    "    total_list.append({'name' : temp_name,'image':temp_image,'label':temp_label})\n",
    "    \n",
    "print(\"starting gen\")\n",
    "preprocess_gen = pre_process_tfrecord_write_itr(temp_path,total_list,new_size=256)\n",
    "\n",
    "\n",
    "out_file = temp_path.split('/')[-2] + '_tfrecord'\n",
    "tfrecords_filename =os.path.join(root, out_file)\n",
    "\n",
    "label_encoder = preprocessing.LabelEncoder()\n",
    "class_num=7+1\n",
    "print(\"write tfrecord\")\n",
    "write_image_annotation_pairs_to_tfrecord_from_gen(preprocess_gen,tfrecords_filename)"
   ]
  },
  {
   "cell_type": "markdown",
   "metadata": {},
   "source": [
    "## Decoding test"
   ]
  },
  {
   "cell_type": "code",
   "execution_count": 12,
   "metadata": {},
   "outputs": [],
   "source": [
    "tfr_itr = read_image_annotation_pairs_from_tfrecord_itr_from_compressed(tfrecords_filename)"
   ]
  },
  {
   "cell_type": "code",
   "execution_count": 13,
   "metadata": {
    "scrolled": true
   },
   "outputs": [
    {
     "name": "stderr",
     "output_type": "stream",
     "text": [
      "C:\\Users\\Nakyilkim\\Anaconda3\\lib\\site-packages\\ipykernel_launcher.py:292: DeprecationWarning: The binary mode of fromstring is deprecated, as it behaves surprisingly on unicode inputs. Use frombuffer instead\n"
     ]
    },
    {
     "name": "stdout",
     "output_type": "stream",
     "text": [
      "img_string shape (16777216,)\n",
      "image :  134217728, annotation length : 536870912\n"
     ]
    },
    {
     "name": "stderr",
     "output_type": "stream",
     "text": [
      "C:\\Users\\Nakyilkim\\Anaconda3\\lib\\site-packages\\ipykernel_launcher.py:301: DeprecationWarning: The binary mode of fromstring is deprecated, as it behaves surprisingly on unicode inputs. Use frombuffer instead\n",
      "  0%|                                                                                           | 0/20 [00:00<?, ?it/s]"
     ]
    },
    {
     "name": "stdout",
     "output_type": "stream",
     "text": [
      "loaded Image Shape (512, 512, 363)\n",
      "Reshaped shape (256, 256, 256, 1)\n",
      "annotation shape (16777216,)\n",
      "unique value [0 1 2 3 4 5 6 7]\n",
      "processed mask shape (16777216, 8)\n",
      "Reshaped shape (256, 256, 256, 8)\n",
      "Mask shape when preproceesing ends (256, 256, 256, 8)\n"
     ]
    },
    {
     "ename": "NameError",
     "evalue": "name 'decoded_annoatation' is not defined",
     "output_type": "error",
     "traceback": [
      "\u001b[1;31m---------------------------------------------------------------------------\u001b[0m",
      "\u001b[1;31mNameError\u001b[0m                                 Traceback (most recent call last)",
      "\u001b[1;32m<ipython-input-13-38441407e12e>\u001b[0m in \u001b[0;36m<module>\u001b[1;34m()\u001b[0m\n\u001b[0;32m     12\u001b[0m \u001b[1;33m\u001b[0m\u001b[0m\n\u001b[0;32m     13\u001b[0m \u001b[0mdecoded_image\u001b[0m \u001b[1;33m==\u001b[0m  \u001b[0ma\u001b[0m\u001b[1;33m\u001b[0m\u001b[0m\n\u001b[1;32m---> 14\u001b[1;33m \u001b[0mdecoded_annoatation\u001b[0m \u001b[1;33m==\u001b[0m \u001b[0mannotation\u001b[0m\u001b[1;33m\u001b[0m\u001b[0m\n\u001b[0m",
      "\u001b[1;31mNameError\u001b[0m: name 'decoded_annoatation' is not defined"
     ]
    }
   ],
   "source": [
    "for i,j in tfr_itr:\n",
    "    decoded_image = i\n",
    "    decoded_annotation = j\n",
    "    break\n",
    "\n",
    "preprocess_gen = pre_process_tfrecord_write_itr(temp_path,total_list,new_size=256)\n",
    "\n",
    "for a,b in preprocess_gen:\n",
    "    image = a\n",
    "    annotation = b\n",
    "    break"
   ]
  },
  {
   "cell_type": "code",
   "execution_count": 14,
   "metadata": {},
   "outputs": [
    {
     "data": {
      "text/plain": [
       "array([[[[ True,  True,  True, ...,  True,  True,  True],\n",
       "         [ True,  True,  True, ...,  True,  True,  True],\n",
       "         [ True,  True,  True, ...,  True,  True,  True],\n",
       "         ...,\n",
       "         [ True,  True,  True, ...,  True,  True,  True],\n",
       "         [ True,  True,  True, ...,  True,  True,  True],\n",
       "         [ True,  True,  True, ...,  True,  True,  True]],\n",
       "\n",
       "        [[ True,  True,  True, ...,  True,  True,  True],\n",
       "         [ True,  True,  True, ...,  True,  True,  True],\n",
       "         [ True,  True,  True, ...,  True,  True,  True],\n",
       "         ...,\n",
       "         [ True,  True,  True, ...,  True,  True,  True],\n",
       "         [ True,  True,  True, ...,  True,  True,  True],\n",
       "         [ True,  True,  True, ...,  True,  True,  True]],\n",
       "\n",
       "        [[ True,  True,  True, ...,  True,  True,  True],\n",
       "         [ True,  True,  True, ...,  True,  True,  True],\n",
       "         [ True,  True,  True, ...,  True,  True,  True],\n",
       "         ...,\n",
       "         [ True,  True,  True, ...,  True,  True,  True],\n",
       "         [ True,  True,  True, ...,  True,  True,  True],\n",
       "         [ True,  True,  True, ...,  True,  True,  True]],\n",
       "\n",
       "        ...,\n",
       "\n",
       "        [[ True,  True,  True, ...,  True,  True,  True],\n",
       "         [ True,  True,  True, ...,  True,  True,  True],\n",
       "         [ True,  True,  True, ...,  True,  True,  True],\n",
       "         ...,\n",
       "         [ True,  True,  True, ...,  True,  True,  True],\n",
       "         [ True,  True,  True, ...,  True,  True,  True],\n",
       "         [ True,  True,  True, ...,  True,  True,  True]],\n",
       "\n",
       "        [[ True,  True,  True, ...,  True,  True,  True],\n",
       "         [ True,  True,  True, ...,  True,  True,  True],\n",
       "         [ True,  True,  True, ...,  True,  True,  True],\n",
       "         ...,\n",
       "         [ True,  True,  True, ...,  True,  True,  True],\n",
       "         [ True,  True,  True, ...,  True,  True,  True],\n",
       "         [ True,  True,  True, ...,  True,  True,  True]],\n",
       "\n",
       "        [[ True,  True,  True, ...,  True,  True,  True],\n",
       "         [ True,  True,  True, ...,  True,  True,  True],\n",
       "         [ True,  True,  True, ...,  True,  True,  True],\n",
       "         ...,\n",
       "         [ True,  True,  True, ...,  True,  True,  True],\n",
       "         [ True,  True,  True, ...,  True,  True,  True],\n",
       "         [ True,  True,  True, ...,  True,  True,  True]]],\n",
       "\n",
       "\n",
       "       [[[ True,  True,  True, ...,  True,  True,  True],\n",
       "         [ True,  True,  True, ...,  True,  True,  True],\n",
       "         [ True,  True,  True, ...,  True,  True,  True],\n",
       "         ...,\n",
       "         [ True,  True,  True, ...,  True,  True,  True],\n",
       "         [ True,  True,  True, ...,  True,  True,  True],\n",
       "         [ True,  True,  True, ...,  True,  True,  True]],\n",
       "\n",
       "        [[ True,  True,  True, ...,  True,  True,  True],\n",
       "         [ True,  True,  True, ...,  True,  True,  True],\n",
       "         [ True,  True,  True, ...,  True,  True,  True],\n",
       "         ...,\n",
       "         [ True,  True,  True, ...,  True,  True,  True],\n",
       "         [ True,  True,  True, ...,  True,  True,  True],\n",
       "         [ True,  True,  True, ...,  True,  True,  True]],\n",
       "\n",
       "        [[ True,  True,  True, ...,  True,  True,  True],\n",
       "         [ True,  True,  True, ...,  True,  True,  True],\n",
       "         [ True,  True,  True, ...,  True,  True,  True],\n",
       "         ...,\n",
       "         [ True,  True,  True, ...,  True,  True,  True],\n",
       "         [ True,  True,  True, ...,  True,  True,  True],\n",
       "         [ True,  True,  True, ...,  True,  True,  True]],\n",
       "\n",
       "        ...,\n",
       "\n",
       "        [[ True,  True,  True, ...,  True,  True,  True],\n",
       "         [ True,  True,  True, ...,  True,  True,  True],\n",
       "         [ True,  True,  True, ...,  True,  True,  True],\n",
       "         ...,\n",
       "         [ True,  True,  True, ...,  True,  True,  True],\n",
       "         [ True,  True,  True, ...,  True,  True,  True],\n",
       "         [ True,  True,  True, ...,  True,  True,  True]],\n",
       "\n",
       "        [[ True,  True,  True, ...,  True,  True,  True],\n",
       "         [ True,  True,  True, ...,  True,  True,  True],\n",
       "         [ True,  True,  True, ...,  True,  True,  True],\n",
       "         ...,\n",
       "         [ True,  True,  True, ...,  True,  True,  True],\n",
       "         [ True,  True,  True, ...,  True,  True,  True],\n",
       "         [ True,  True,  True, ...,  True,  True,  True]],\n",
       "\n",
       "        [[ True,  True,  True, ...,  True,  True,  True],\n",
       "         [ True,  True,  True, ...,  True,  True,  True],\n",
       "         [ True,  True,  True, ...,  True,  True,  True],\n",
       "         ...,\n",
       "         [ True,  True,  True, ...,  True,  True,  True],\n",
       "         [ True,  True,  True, ...,  True,  True,  True],\n",
       "         [ True,  True,  True, ...,  True,  True,  True]]],\n",
       "\n",
       "\n",
       "       [[[ True,  True,  True, ...,  True,  True,  True],\n",
       "         [ True,  True,  True, ...,  True,  True,  True],\n",
       "         [ True,  True,  True, ...,  True,  True,  True],\n",
       "         ...,\n",
       "         [ True,  True,  True, ...,  True,  True,  True],\n",
       "         [ True,  True,  True, ...,  True,  True,  True],\n",
       "         [ True,  True,  True, ...,  True,  True,  True]],\n",
       "\n",
       "        [[ True,  True,  True, ...,  True,  True,  True],\n",
       "         [ True,  True,  True, ...,  True,  True,  True],\n",
       "         [ True,  True,  True, ...,  True,  True,  True],\n",
       "         ...,\n",
       "         [ True,  True,  True, ...,  True,  True,  True],\n",
       "         [ True,  True,  True, ...,  True,  True,  True],\n",
       "         [ True,  True,  True, ...,  True,  True,  True]],\n",
       "\n",
       "        [[ True,  True,  True, ...,  True,  True,  True],\n",
       "         [ True,  True,  True, ...,  True,  True,  True],\n",
       "         [ True,  True,  True, ...,  True,  True,  True],\n",
       "         ...,\n",
       "         [ True,  True,  True, ...,  True,  True,  True],\n",
       "         [ True,  True,  True, ...,  True,  True,  True],\n",
       "         [ True,  True,  True, ...,  True,  True,  True]],\n",
       "\n",
       "        ...,\n",
       "\n",
       "        [[ True,  True,  True, ...,  True,  True,  True],\n",
       "         [ True,  True,  True, ...,  True,  True,  True],\n",
       "         [ True,  True,  True, ...,  True,  True,  True],\n",
       "         ...,\n",
       "         [ True,  True,  True, ...,  True,  True,  True],\n",
       "         [ True,  True,  True, ...,  True,  True,  True],\n",
       "         [ True,  True,  True, ...,  True,  True,  True]],\n",
       "\n",
       "        [[ True,  True,  True, ...,  True,  True,  True],\n",
       "         [ True,  True,  True, ...,  True,  True,  True],\n",
       "         [ True,  True,  True, ...,  True,  True,  True],\n",
       "         ...,\n",
       "         [ True,  True,  True, ...,  True,  True,  True],\n",
       "         [ True,  True,  True, ...,  True,  True,  True],\n",
       "         [ True,  True,  True, ...,  True,  True,  True]],\n",
       "\n",
       "        [[ True,  True,  True, ...,  True,  True,  True],\n",
       "         [ True,  True,  True, ...,  True,  True,  True],\n",
       "         [ True,  True,  True, ...,  True,  True,  True],\n",
       "         ...,\n",
       "         [ True,  True,  True, ...,  True,  True,  True],\n",
       "         [ True,  True,  True, ...,  True,  True,  True],\n",
       "         [ True,  True,  True, ...,  True,  True,  True]]],\n",
       "\n",
       "\n",
       "       ...,\n",
       "\n",
       "\n",
       "       [[[ True,  True,  True, ...,  True,  True,  True],\n",
       "         [ True,  True,  True, ...,  True,  True,  True],\n",
       "         [ True,  True,  True, ...,  True,  True,  True],\n",
       "         ...,\n",
       "         [ True,  True,  True, ...,  True,  True,  True],\n",
       "         [ True,  True,  True, ...,  True,  True,  True],\n",
       "         [ True,  True,  True, ...,  True,  True,  True]],\n",
       "\n",
       "        [[ True,  True,  True, ...,  True,  True,  True],\n",
       "         [ True,  True,  True, ...,  True,  True,  True],\n",
       "         [ True,  True,  True, ...,  True,  True,  True],\n",
       "         ...,\n",
       "         [ True,  True,  True, ...,  True,  True,  True],\n",
       "         [ True,  True,  True, ...,  True,  True,  True],\n",
       "         [ True,  True,  True, ...,  True,  True,  True]],\n",
       "\n",
       "        [[ True,  True,  True, ...,  True,  True,  True],\n",
       "         [ True,  True,  True, ...,  True,  True,  True],\n",
       "         [ True,  True,  True, ...,  True,  True,  True],\n",
       "         ...,\n",
       "         [ True,  True,  True, ...,  True,  True,  True],\n",
       "         [ True,  True,  True, ...,  True,  True,  True],\n",
       "         [ True,  True,  True, ...,  True,  True,  True]],\n",
       "\n",
       "        ...,\n",
       "\n",
       "        [[ True,  True,  True, ...,  True,  True,  True],\n",
       "         [ True,  True,  True, ...,  True,  True,  True],\n",
       "         [ True,  True,  True, ...,  True,  True,  True],\n",
       "         ...,\n",
       "         [ True,  True,  True, ...,  True,  True,  True],\n",
       "         [ True,  True,  True, ...,  True,  True,  True],\n",
       "         [ True,  True,  True, ...,  True,  True,  True]],\n",
       "\n",
       "        [[ True,  True,  True, ...,  True,  True,  True],\n",
       "         [ True,  True,  True, ...,  True,  True,  True],\n",
       "         [ True,  True,  True, ...,  True,  True,  True],\n",
       "         ...,\n",
       "         [ True,  True,  True, ...,  True,  True,  True],\n",
       "         [ True,  True,  True, ...,  True,  True,  True],\n",
       "         [ True,  True,  True, ...,  True,  True,  True]],\n",
       "\n",
       "        [[ True,  True,  True, ...,  True,  True,  True],\n",
       "         [ True,  True,  True, ...,  True,  True,  True],\n",
       "         [ True,  True,  True, ...,  True,  True,  True],\n",
       "         ...,\n",
       "         [ True,  True,  True, ...,  True,  True,  True],\n",
       "         [ True,  True,  True, ...,  True,  True,  True],\n",
       "         [ True,  True,  True, ...,  True,  True,  True]]],\n",
       "\n",
       "\n",
       "       [[[ True,  True,  True, ...,  True,  True,  True],\n",
       "         [ True,  True,  True, ...,  True,  True,  True],\n",
       "         [ True,  True,  True, ...,  True,  True,  True],\n",
       "         ...,\n",
       "         [ True,  True,  True, ...,  True,  True,  True],\n",
       "         [ True,  True,  True, ...,  True,  True,  True],\n",
       "         [ True,  True,  True, ...,  True,  True,  True]],\n",
       "\n",
       "        [[ True,  True,  True, ...,  True,  True,  True],\n",
       "         [ True,  True,  True, ...,  True,  True,  True],\n",
       "         [ True,  True,  True, ...,  True,  True,  True],\n",
       "         ...,\n",
       "         [ True,  True,  True, ...,  True,  True,  True],\n",
       "         [ True,  True,  True, ...,  True,  True,  True],\n",
       "         [ True,  True,  True, ...,  True,  True,  True]],\n",
       "\n",
       "        [[ True,  True,  True, ...,  True,  True,  True],\n",
       "         [ True,  True,  True, ...,  True,  True,  True],\n",
       "         [ True,  True,  True, ...,  True,  True,  True],\n",
       "         ...,\n",
       "         [ True,  True,  True, ...,  True,  True,  True],\n",
       "         [ True,  True,  True, ...,  True,  True,  True],\n",
       "         [ True,  True,  True, ...,  True,  True,  True]],\n",
       "\n",
       "        ...,\n",
       "\n",
       "        [[ True,  True,  True, ...,  True,  True,  True],\n",
       "         [ True,  True,  True, ...,  True,  True,  True],\n",
       "         [ True,  True,  True, ...,  True,  True,  True],\n",
       "         ...,\n",
       "         [ True,  True,  True, ...,  True,  True,  True],\n",
       "         [ True,  True,  True, ...,  True,  True,  True],\n",
       "         [ True,  True,  True, ...,  True,  True,  True]],\n",
       "\n",
       "        [[ True,  True,  True, ...,  True,  True,  True],\n",
       "         [ True,  True,  True, ...,  True,  True,  True],\n",
       "         [ True,  True,  True, ...,  True,  True,  True],\n",
       "         ...,\n",
       "         [ True,  True,  True, ...,  True,  True,  True],\n",
       "         [ True,  True,  True, ...,  True,  True,  True],\n",
       "         [ True,  True,  True, ...,  True,  True,  True]],\n",
       "\n",
       "        [[ True,  True,  True, ...,  True,  True,  True],\n",
       "         [ True,  True,  True, ...,  True,  True,  True],\n",
       "         [ True,  True,  True, ...,  True,  True,  True],\n",
       "         ...,\n",
       "         [ True,  True,  True, ...,  True,  True,  True],\n",
       "         [ True,  True,  True, ...,  True,  True,  True],\n",
       "         [ True,  True,  True, ...,  True,  True,  True]]],\n",
       "\n",
       "\n",
       "       [[[ True,  True,  True, ...,  True,  True,  True],\n",
       "         [ True,  True,  True, ...,  True,  True,  True],\n",
       "         [ True,  True,  True, ...,  True,  True,  True],\n",
       "         ...,\n",
       "         [ True,  True,  True, ...,  True,  True,  True],\n",
       "         [ True,  True,  True, ...,  True,  True,  True],\n",
       "         [ True,  True,  True, ...,  True,  True,  True]],\n",
       "\n",
       "        [[ True,  True,  True, ...,  True,  True,  True],\n",
       "         [ True,  True,  True, ...,  True,  True,  True],\n",
       "         [ True,  True,  True, ...,  True,  True,  True],\n",
       "         ...,\n",
       "         [ True,  True,  True, ...,  True,  True,  True],\n",
       "         [ True,  True,  True, ...,  True,  True,  True],\n",
       "         [ True,  True,  True, ...,  True,  True,  True]],\n",
       "\n",
       "        [[ True,  True,  True, ...,  True,  True,  True],\n",
       "         [ True,  True,  True, ...,  True,  True,  True],\n",
       "         [ True,  True,  True, ...,  True,  True,  True],\n",
       "         ...,\n",
       "         [ True,  True,  True, ...,  True,  True,  True],\n",
       "         [ True,  True,  True, ...,  True,  True,  True],\n",
       "         [ True,  True,  True, ...,  True,  True,  True]],\n",
       "\n",
       "        ...,\n",
       "\n",
       "        [[ True,  True,  True, ...,  True,  True,  True],\n",
       "         [ True,  True,  True, ...,  True,  True,  True],\n",
       "         [ True,  True,  True, ...,  True,  True,  True],\n",
       "         ...,\n",
       "         [ True,  True,  True, ...,  True,  True,  True],\n",
       "         [ True,  True,  True, ...,  True,  True,  True],\n",
       "         [ True,  True,  True, ...,  True,  True,  True]],\n",
       "\n",
       "        [[ True,  True,  True, ...,  True,  True,  True],\n",
       "         [ True,  True,  True, ...,  True,  True,  True],\n",
       "         [ True,  True,  True, ...,  True,  True,  True],\n",
       "         ...,\n",
       "         [ True,  True,  True, ...,  True,  True,  True],\n",
       "         [ True,  True,  True, ...,  True,  True,  True],\n",
       "         [ True,  True,  True, ...,  True,  True,  True]],\n",
       "\n",
       "        [[ True,  True,  True, ...,  True,  True,  True],\n",
       "         [ True,  True,  True, ...,  True,  True,  True],\n",
       "         [ True,  True,  True, ...,  True,  True,  True],\n",
       "         ...,\n",
       "         [ True,  True,  True, ...,  True,  True,  True],\n",
       "         [ True,  True,  True, ...,  True,  True,  True],\n",
       "         [ True,  True,  True, ...,  True,  True,  True]]]])"
      ]
     },
     "execution_count": 14,
     "metadata": {},
     "output_type": "execute_result"
    }
   ],
   "source": [
    "decoded_image ==  image\n",
    "decoded_annotation == annotation\n"
   ]
  },
  {
   "cell_type": "markdown",
   "metadata": {},
   "source": [
    "## For Memory Error (Optional)"
   ]
  },
  {
   "cell_type": "code",
   "execution_count": 12,
   "metadata": {},
   "outputs": [
    {
     "name": "stderr",
     "output_type": "stream",
     "text": [
      "\n",
      "\n",
      "  0%|                                                                                           | 0/20 [00:00<?, ?it/s]"
     ]
    },
    {
     "name": "stdout",
     "output_type": "stream",
     "text": [
      "image shape (16777216,)\n",
      "unique value [0 1 2 3 4 5 6 7]\n",
      "Start MASKING==================================================\n"
     ]
    },
    {
     "name": "stderr",
     "output_type": "stream",
     "text": [
      "\n",
      "\n",
      "  5%|████▏                                                                              | 1/20 [00:35<11:17, 35.67s/it]"
     ]
    },
    {
     "name": "stdout",
     "output_type": "stream",
     "text": [
      "image shape (16777216,)\n",
      "unique value [0 1 2 3 4 5 6 7]\n",
      "Start MASKING==================================================\n"
     ]
    },
    {
     "name": "stderr",
     "output_type": "stream",
     "text": [
      "\n",
      "\n",
      " 10%|████████▎                                                                          | 2/20 [01:11<10:42, 35.71s/it]"
     ]
    },
    {
     "name": "stdout",
     "output_type": "stream",
     "text": [
      "image shape (16777216,)\n",
      "unique value [0 1 2 3 4 5 6 7]\n",
      "Start MASKING==================================================\n"
     ]
    },
    {
     "name": "stderr",
     "output_type": "stream",
     "text": [
      "\n",
      "\n",
      " 15%|████████████▍                                                                      | 3/20 [01:51<10:29, 37.01s/it]"
     ]
    },
    {
     "name": "stdout",
     "output_type": "stream",
     "text": [
      "image shape (16777216,)\n",
      "unique value [0 1 2 3 4 5 6 7]\n",
      "Start MASKING==================================================\n"
     ]
    },
    {
     "name": "stderr",
     "output_type": "stream",
     "text": [
      "\n",
      "\n",
      " 20%|████████████████▌                                                                  | 4/20 [02:25<09:38, 36.18s/it]"
     ]
    },
    {
     "name": "stdout",
     "output_type": "stream",
     "text": [
      "image shape (16777216,)\n",
      "unique value [0 1 2 3 4 5 6 7]\n",
      "Start MASKING==================================================\n"
     ]
    },
    {
     "name": "stderr",
     "output_type": "stream",
     "text": [
      "\n",
      "\n",
      " 25%|████████████████████▊                                                              | 5/20 [02:58<08:48, 35.22s/it]"
     ]
    },
    {
     "name": "stdout",
     "output_type": "stream",
     "text": [
      "image shape (16777216,)\n",
      "unique value [0 1 2 3 4 5 6 7]\n",
      "Start MASKING==================================================\n"
     ]
    },
    {
     "name": "stderr",
     "output_type": "stream",
     "text": [
      "\n",
      "\n",
      " 30%|████████████████████████▉                                                          | 6/20 [03:35<08:18, 35.60s/it]"
     ]
    },
    {
     "name": "stdout",
     "output_type": "stream",
     "text": [
      "image shape (16777216,)\n",
      "unique value [0 1 2 3 4 5 6 7]\n",
      "Start MASKING==================================================\n"
     ]
    },
    {
     "name": "stderr",
     "output_type": "stream",
     "text": [
      "\n",
      "\n",
      " 35%|█████████████████████████████                                                      | 7/20 [04:14<07:55, 36.57s/it]"
     ]
    },
    {
     "name": "stdout",
     "output_type": "stream",
     "text": [
      "image shape (16777216,)\n",
      "unique value [0 1 2 3 4 5 6 7]\n",
      "Start MASKING==================================================\n"
     ]
    },
    {
     "name": "stderr",
     "output_type": "stream",
     "text": [
      "\n",
      "\n",
      " 40%|█████████████████████████████████▏                                                 | 8/20 [04:48<07:09, 35.83s/it]"
     ]
    },
    {
     "name": "stdout",
     "output_type": "stream",
     "text": [
      "image shape (16777216,)\n",
      "unique value [0 1 2 3 4 5 6 7]\n",
      "Start MASKING==================================================\n"
     ]
    },
    {
     "name": "stderr",
     "output_type": "stream",
     "text": [
      "\n",
      "\n",
      " 45%|█████████████████████████████████████▎                                             | 9/20 [05:28<06:48, 37.14s/it]"
     ]
    }
   ],
   "source": [
    "## For Low memory Setting\n",
    "## preprocessing -> pickling -> tfrecord\n",
    "\n",
    "outpath = r\"D:\\segmentiation\\scipy_pickle_test0.pkl\"\n",
    "memory_error_list = []\n",
    "cnt = 0\n",
    "\n",
    "label_encoder = preprocessing.LabelEncoder()\n",
    "class_num=7+1\n",
    "## Making padded image\n",
    "\n",
    "todolist = [i for i in total_list]\n",
    "\n",
    "\n",
    "\n",
    "with open(outpath,\"wb\") as f:\n",
    "    pickler = pickle.Pickler(f)\n",
    "    for  record in tqdm(todolist):\n",
    "\n",
    "\n",
    "        try :\n",
    "\n",
    "            file_name = record['name']\n",
    "            img_fname = record['image']\n",
    "            label_fname = record['label']\n",
    "\n",
    "\n",
    "\n",
    "            # nii load // 이 결과가가 원래 결과랑 같은 지 확인 하자\n",
    "            img = nii_loader(ct_set,img_fname)\n",
    "            lab = nii_loader(ct_set, label_fname)\n",
    "\n",
    "\n",
    "            img = pad3d(img.get_data())\n",
    "            img = image_preprocess(img,new_size=256)\n",
    "\n",
    "            lab = pad3d(lab.get_data())\n",
    "            lab = image_preprocess(lab,new_size=256,mask=True)\n",
    "\n",
    "\n",
    "\n",
    "            print(\"Start MASKING\"+\"=====\"*10)\n",
    "\n",
    "            List = {'filename':file_name,'image': img, 'label':  lab}\n",
    "            pickler.dump(List)\n",
    "\n",
    "            del file_name, img_fname, label_fname, img, lab\n",
    "            \n",
    "            print(\"Dumping\",cnt)\n",
    "            cnt += 1\n",
    "\n",
    "        except MemoryError:\n",
    "            print(\"Memory Error\")\n",
    "            todolist = total_list[cnt:]\n",
    "            break\n",
    "\n",
    "outpath = outpath[:-5] + str(int(outpath[-5]) + 1) + str(\".pkl\")"
   ]
  },
  {
   "cell_type": "code",
   "execution_count": 24,
   "metadata": {},
   "outputs": [
    {
     "name": "stderr",
     "output_type": "stream",
     "text": [
      "\n",
      "\n",
      "\n",
      "  0%|                                                                                           | 0/11 [00:00<?, ?it/s]"
     ]
    },
    {
     "name": "stdout",
     "output_type": "stream",
     "text": [
      "image shape (16777216,)\n",
      "unique value [0 1 2 3 4 5 6 7]\n",
      "Start MASKING==================================================\n",
      "Dumping 9\n"
     ]
    },
    {
     "name": "stderr",
     "output_type": "stream",
     "text": [
      "\n",
      "\n",
      "\n",
      "  9%|███████▌                                                                           | 1/11 [00:33<05:36, 33.69s/it]"
     ]
    },
    {
     "name": "stdout",
     "output_type": "stream",
     "text": [
      "image shape (16777216,)\n",
      "unique value [0 1 2 3 4 5 6 7]\n",
      "Start MASKING==================================================\n",
      "Dumping 10\n"
     ]
    },
    {
     "name": "stderr",
     "output_type": "stream",
     "text": [
      "\n",
      "\n",
      "\n",
      " 18%|███████████████                                                                    | 2/11 [01:09<05:09, 34.40s/it]"
     ]
    },
    {
     "name": "stdout",
     "output_type": "stream",
     "text": [
      "image shape (16777216,)\n",
      "unique value [0 1 2 3 4 5 6 7]\n",
      "Start MASKING==================================================\n",
      "Dumping 11\n"
     ]
    },
    {
     "name": "stderr",
     "output_type": "stream",
     "text": [
      "\n",
      "\n",
      "\n",
      " 27%|██████████████████████▋                                                            | 3/11 [01:42<04:32, 34.00s/it]"
     ]
    },
    {
     "name": "stdout",
     "output_type": "stream",
     "text": [
      "image shape (16777216,)\n",
      "unique value [0 1 2 3 4 5 6 7]\n",
      "Start MASKING==================================================\n",
      "Dumping 12\n"
     ]
    },
    {
     "name": "stderr",
     "output_type": "stream",
     "text": [
      "\n",
      "\n",
      "\n",
      " 36%|██████████████████████████████▏                                                    | 4/11 [02:20<04:04, 34.98s/it]"
     ]
    },
    {
     "name": "stdout",
     "output_type": "stream",
     "text": [
      "image shape (16777216,)\n",
      "unique value [0 1 2 3 4 5 6 7]\n",
      "Start MASKING==================================================\n",
      "Dumping 13\n"
     ]
    },
    {
     "name": "stderr",
     "output_type": "stream",
     "text": [
      "\n",
      "\n",
      "\n",
      " 45%|█████████████████████████████████████▋                                             | 5/11 [03:02<03:43, 37.31s/it]"
     ]
    },
    {
     "name": "stdout",
     "output_type": "stream",
     "text": [
      "image shape (16777216,)\n",
      "unique value [0 1 2 3 4 5 6 7]\n",
      "Start MASKING==================================================\n",
      "Dumping 14\n"
     ]
    },
    {
     "name": "stderr",
     "output_type": "stream",
     "text": [
      "\n",
      "\n",
      "\n",
      " 55%|█████████████████████████████████████████████▎                                     | 6/11 [03:42<03:09, 37.98s/it]"
     ]
    },
    {
     "name": "stdout",
     "output_type": "stream",
     "text": [
      "image shape (16777216,)\n",
      "unique value [0 1 2 3 4 5 6 7]\n",
      "Start MASKING==================================================\n",
      "Dumping 15\n"
     ]
    },
    {
     "name": "stderr",
     "output_type": "stream",
     "text": [
      "\n",
      "\n",
      "\n",
      " 64%|████████████████████████████████████████████████████▊                              | 7/11 [04:23<02:36, 39.03s/it]"
     ]
    },
    {
     "name": "stdout",
     "output_type": "stream",
     "text": [
      "image shape (16777216,)\n",
      "unique value [0 1 2 3 4 5 6 7]\n",
      "Start MASKING==================================================\n",
      "Dumping 16\n"
     ]
    },
    {
     "name": "stderr",
     "output_type": "stream",
     "text": [
      "\n",
      "\n",
      "\n",
      " 73%|████████████████████████████████████████████████████████████▎                      | 8/11 [05:03<01:57, 39.21s/it]"
     ]
    },
    {
     "name": "stdout",
     "output_type": "stream",
     "text": [
      "image shape (16777216,)\n",
      "unique value [0 1 2 3 4 5 6 7]\n",
      "Start MASKING==================================================\n",
      "Dumping 17\n"
     ]
    },
    {
     "name": "stderr",
     "output_type": "stream",
     "text": [
      "\n",
      "\n",
      "\n",
      " 82%|███████████████████████████████████████████████████████████████████▉               | 9/11 [05:36<01:14, 37.45s/it]"
     ]
    },
    {
     "name": "stdout",
     "output_type": "stream",
     "text": [
      "Memory Error\n"
     ]
    },
    {
     "ename": "ValueError",
     "evalue": "invalid literal for int() with base 10: '.'",
     "output_type": "error",
     "traceback": [
      "\u001b[1;31m---------------------------------------------------------------------------\u001b[0m",
      "\u001b[1;31mValueError\u001b[0m                                Traceback (most recent call last)",
      "\u001b[1;32m<ipython-input-24-115999b7992e>\u001b[0m in \u001b[0;36m<module>\u001b[1;34m()\u001b[0m\n\u001b[0;32m     40\u001b[0m             \u001b[1;32mbreak\u001b[0m\u001b[1;33m\u001b[0m\u001b[0m\n\u001b[0;32m     41\u001b[0m \u001b[1;33m\u001b[0m\u001b[0m\n\u001b[1;32m---> 42\u001b[1;33m \u001b[0moutpath\u001b[0m \u001b[1;33m=\u001b[0m \u001b[0moutpath\u001b[0m\u001b[1;33m[\u001b[0m\u001b[1;33m:\u001b[0m\u001b[1;33m-\u001b[0m\u001b[1;36m4\u001b[0m\u001b[1;33m]\u001b[0m \u001b[1;33m+\u001b[0m \u001b[0mstr\u001b[0m\u001b[1;33m(\u001b[0m\u001b[0mint\u001b[0m\u001b[1;33m(\u001b[0m\u001b[0moutpath\u001b[0m\u001b[1;33m[\u001b[0m\u001b[1;33m-\u001b[0m\u001b[1;36m4\u001b[0m\u001b[1;33m]\u001b[0m\u001b[1;33m)\u001b[0m \u001b[1;33m+\u001b[0m \u001b[1;36m1\u001b[0m\u001b[1;33m)\u001b[0m \u001b[1;33m+\u001b[0m \u001b[0mstr\u001b[0m\u001b[1;33m(\u001b[0m\u001b[1;34m\".pkl\"\u001b[0m\u001b[1;33m)\u001b[0m\u001b[1;33m\u001b[0m\u001b[0m\n\u001b[0m",
      "\u001b[1;31mValueError\u001b[0m: invalid literal for int() with base 10: '.'"
     ]
    }
   ],
   "source": [
    "with open(outpath,\"wb\") as f:\n",
    "    pickler = pickle.Pickler(f)\n",
    "    for  record in tqdm(todolist):\n",
    "\n",
    "\n",
    "        try :\n",
    "\n",
    "            file_name = record['name']\n",
    "            img_fname = record['image']\n",
    "            label_fname = record['label']\n",
    "\n",
    "\n",
    "\n",
    "            # nii load // 이 결과가가 원래 결과랑 같은 지 확인 하자\n",
    "            img = nii_loader(ct_set,img_fname)\n",
    "            lab = nii_loader(ct_set, label_fname)\n",
    "\n",
    "\n",
    "            img = pad3d(img.get_data())\n",
    "            img = image_preprocess(img,new_size=256)\n",
    "\n",
    "            lab = pad3d(lab.get_data())\n",
    "            lab = image_preprocess(lab,new_size=256,mask=True)\n",
    "\n",
    "\n",
    "\n",
    "            print(\"Start MASKING\"+\"=====\"*10)\n",
    "\n",
    "            List = {'filename':file_name,'image': img, 'label':  lab}\n",
    "            pickler.dump(List)\n",
    "\n",
    "            del file_name, img_fname, label_fname, img, lab\n",
    "            \n",
    "            print(\"Dumping\",cnt)\n",
    "            cnt += 1\n",
    "\n",
    "        except MemoryError:\n",
    "            print(\"Memory Error\")\n",
    "            todolist = total_list[cnt:]\n",
    "            break\n",
    "\n",
    "outpath = outpath[:-4] + str(int(outpath[-5]) + 1) + str(\".pkl\")"
   ]
  },
  {
   "cell_type": "code",
   "execution_count": 67,
   "metadata": {},
   "outputs": [
    {
     "name": "stderr",
     "output_type": "stream",
     "text": [
      "\n",
      "\n",
      "\n",
      "\n",
      "  0%|                                                                                            | 0/2 [00:00<?, ?it/s]"
     ]
    },
    {
     "name": "stdout",
     "output_type": "stream",
     "text": [
      "image shape (16777216,)\n",
      "unique value [0 1 2 3 4 5 6 7]\n",
      "Start MASKING==================================================\n",
      "Dumping 18\n"
     ]
    },
    {
     "name": "stderr",
     "output_type": "stream",
     "text": [
      "\n",
      "\n",
      "\n",
      "\n",
      " 50%|██████████████████████████████████████████                                          | 1/2 [00:33<00:33, 33.28s/it]"
     ]
    },
    {
     "name": "stdout",
     "output_type": "stream",
     "text": [
      "image shape (16777216,)\n",
      "unique value [0 1 2 3 4 5 6 7]\n",
      "Start MASKING==================================================\n",
      "Dumping 19\n"
     ]
    },
    {
     "name": "stderr",
     "output_type": "stream",
     "text": [
      "\n",
      "\n",
      "\n",
      "\n",
      "100%|████████████████████████████████████████████████████████████████████████████████████| 2/2 [01:14<00:00, 35.60s/it]\n",
      "\n",
      "\n",
      "\n"
     ]
    }
   ],
   "source": [
    "with open(outpath,\"wb\") as f:\n",
    "    pickler = pickle.Pickler(f)\n",
    "    for  record in tqdm(todolist):\n",
    "\n",
    "        try :\n",
    "\n",
    "            file_name = record['name']\n",
    "            img_fname = record['image']\n",
    "            label_fname = record['label']\n",
    "\n",
    "\n",
    "\n",
    "            # nii load // 이 결과가가 원래 결과랑 같은 지 확인 하자\n",
    "            img = nii_loader(ct_set,img_fname)\n",
    "            lab = nii_loader(ct_set, label_fname)\n",
    "\n",
    "\n",
    "            img = pad3d(img.get_data())\n",
    "            img = image_preprocess(img,new_size=256)\n",
    "\n",
    "            lab = pad3d(lab.get_data())\n",
    "            lab = image_preprocess(lab,new_size=256,mask=True)\n",
    "\n",
    "\n",
    "\n",
    "            print(\"Start MASKING\"+\"=====\"*10)\n",
    "\n",
    "            List = {'filename':file_name,'image': img, 'label':  lab}\n",
    "            pickler.dump(List)\n",
    "\n",
    "            del file_name, img_fname, label_fname, img, lab\n",
    "            \n",
    "            print(\"Dumping\",cnt)\n",
    "            cnt += 1\n",
    "\n",
    "        except MemoryError:\n",
    "            print(\"Memory Error\")\n",
    "            todolist = total_list[cnt:]\n",
    "            break\n",
    "\n",
    "outpath = outpath[:-4] + str(int(outpath[-4]) + 1) + str(\".pkl\")"
   ]
  },
  {
   "cell_type": "code",
   "execution_count": 78,
   "metadata": {},
   "outputs": [
    {
     "name": "stdout",
     "output_type": "stream",
     "text": [
      "0\n",
      "dict_keys(['filename', 'image', 'label'])\n",
      "(256, 256, 256, 1)\n",
      "img shape: (256, 256, 256, 1), img_raw shape: 134217728\n",
      "annotation_ shape: (256, 256, 256, 8), annotation_raw shape: 536870912\n",
      "1\n",
      "dict_keys(['filename', 'image', 'label'])\n",
      "(256, 256, 256, 1)\n",
      "img shape: (256, 256, 256, 1), img_raw shape: 134217728\n",
      "annotation_ shape: (256, 256, 256, 8), annotation_raw shape: 536870912\n",
      "2\n",
      "dict_keys(['filename', 'image', 'label'])\n",
      "(256, 256, 256, 1)\n",
      "img shape: (256, 256, 256, 1), img_raw shape: 134217728\n",
      "annotation_ shape: (256, 256, 256, 8), annotation_raw shape: 536870912\n",
      "3\n",
      "dict_keys(['filename', 'image', 'label'])\n",
      "(256, 256, 256, 1)\n",
      "img shape: (256, 256, 256, 1), img_raw shape: 134217728\n",
      "annotation_ shape: (256, 256, 256, 8), annotation_raw shape: 536870912\n",
      "4\n",
      "dict_keys(['filename', 'image', 'label'])\n",
      "(256, 256, 256, 1)\n",
      "img shape: (256, 256, 256, 1), img_raw shape: 134217728\n",
      "annotation_ shape: (256, 256, 256, 8), annotation_raw shape: 536870912\n",
      "5\n",
      "dict_keys(['filename', 'image', 'label'])\n",
      "(256, 256, 256, 1)\n",
      "img shape: (256, 256, 256, 1), img_raw shape: 134217728\n",
      "annotation_ shape: (256, 256, 256, 8), annotation_raw shape: 536870912\n",
      "6\n",
      "dict_keys(['filename', 'image', 'label'])\n",
      "(256, 256, 256, 1)\n",
      "img shape: (256, 256, 256, 1), img_raw shape: 134217728\n",
      "annotation_ shape: (256, 256, 256, 8), annotation_raw shape: 536870912\n",
      "7\n",
      "dict_keys(['filename', 'image', 'label'])\n",
      "(256, 256, 256, 1)\n",
      "img shape: (256, 256, 256, 1), img_raw shape: 134217728\n",
      "annotation_ shape: (256, 256, 256, 8), annotation_raw shape: 536870912\n",
      "8\n",
      "dict_keys(['filename', 'image', 'label'])\n",
      "(256, 256, 256, 1)\n",
      "img shape: (256, 256, 256, 1), img_raw shape: 134217728\n",
      "annotation_ shape: (256, 256, 256, 8), annotation_raw shape: 536870912\n",
      "pickle generator created\n",
      "0\n",
      "dict_keys(['filename', 'image', 'label'])\n",
      "(256, 256, 256, 1)\n",
      "img shape: (256, 256, 256, 1), img_raw shape: 134217728\n",
      "annotation_ shape: (256, 256, 256, 8), annotation_raw shape: 536870912\n",
      "1\n",
      "dict_keys(['filename', 'image', 'label'])\n",
      "(256, 256, 256, 1)\n",
      "img shape: (256, 256, 256, 1), img_raw shape: 134217728\n",
      "annotation_ shape: (256, 256, 256, 8), annotation_raw shape: 536870912\n",
      "2\n",
      "dict_keys(['filename', 'image', 'label'])\n",
      "(256, 256, 256, 1)\n",
      "img shape: (256, 256, 256, 1), img_raw shape: 134217728\n",
      "annotation_ shape: (256, 256, 256, 8), annotation_raw shape: 536870912\n",
      "3\n",
      "dict_keys(['filename', 'image', 'label'])\n",
      "(256, 256, 256, 1)\n",
      "img shape: (256, 256, 256, 1), img_raw shape: 134217728\n",
      "annotation_ shape: (256, 256, 256, 8), annotation_raw shape: 536870912\n",
      "4\n",
      "dict_keys(['filename', 'image', 'label'])\n",
      "(256, 256, 256, 1)\n",
      "img shape: (256, 256, 256, 1), img_raw shape: 134217728\n",
      "annotation_ shape: (256, 256, 256, 8), annotation_raw shape: 536870912\n",
      "5\n",
      "dict_keys(['filename', 'image', 'label'])\n",
      "(256, 256, 256, 1)\n",
      "img shape: (256, 256, 256, 1), img_raw shape: 134217728\n",
      "annotation_ shape: (256, 256, 256, 8), annotation_raw shape: 536870912\n",
      "6\n",
      "dict_keys(['filename', 'image', 'label'])\n",
      "(256, 256, 256, 1)\n",
      "img shape: (256, 256, 256, 1), img_raw shape: 134217728\n",
      "annotation_ shape: (256, 256, 256, 8), annotation_raw shape: 536870912\n",
      "7\n",
      "dict_keys(['filename', 'image', 'label'])\n",
      "(256, 256, 256, 1)\n",
      "img shape: (256, 256, 256, 1), img_raw shape: 134217728\n",
      "annotation_ shape: (256, 256, 256, 8), annotation_raw shape: 536870912\n",
      "8\n",
      "dict_keys(['filename', 'image', 'label'])\n",
      "(256, 256, 256, 1)\n",
      "img shape: (256, 256, 256, 1), img_raw shape: 134217728\n",
      "annotation_ shape: (256, 256, 256, 8), annotation_raw shape: 536870912\n",
      "pickle generator created\n",
      "0\n",
      "dict_keys(['filename', 'image', 'label'])\n",
      "(256, 256, 256, 1)\n",
      "img shape: (256, 256, 256, 1), img_raw shape: 134217728\n",
      "annotation_ shape: (256, 256, 256, 8), annotation_raw shape: 536870912\n",
      "1\n",
      "dict_keys(['filename', 'image', 'label'])\n",
      "(256, 256, 256, 1)\n",
      "img shape: (256, 256, 256, 1), img_raw shape: 134217728\n",
      "annotation_ shape: (256, 256, 256, 8), annotation_raw shape: 536870912\n",
      "pickle generator created\n"
     ]
    }
   ],
   "source": [
    "pkl_itr1 = pickle_iter(r'D:\\segmentiation\\scipy_pickle_test0.pkl')\n",
    "pkl_itr2 = pickle_iter(r'D:\\segmentiation\\scipy_pickle_test1.pkl')\n",
    "pkl_itr3 = pickle_iter(r'D:\\segmentiation\\scipy_pickle_test2.pkl')\n",
    "\n",
    "pkl_itr_list = [pkl_itr1, pkl_itr2, pkl_itr3]\n",
    "\n",
    "tfrecords_filename = r\"D:\\segmentiation\\scipy_tfrecord_compression.tfrecord\"\n",
    "write_image_annotation_pairs_to_tfrecord_from_listitr(pkl_itr_list, tfrecords_filename)\n"
   ]
  }
 ],
 "metadata": {
  "kernelspec": {
   "display_name": "Python 3",
   "language": "python",
   "name": "python3"
  },
  "language_info": {
   "codemirror_mode": {
    "name": "ipython",
    "version": 3
   },
   "file_extension": ".py",
   "mimetype": "text/x-python",
   "name": "python",
   "nbconvert_exporter": "python",
   "pygments_lexer": "ipython3",
   "version": "3.6.5"
  }
 },
 "nbformat": 4,
 "nbformat_minor": 2
}
